{
 "cells": [
  {
   "cell_type": "code",
   "execution_count": 1,
   "id": "88d2208a",
   "metadata": {},
   "outputs": [
    {
     "name": "stdout",
     "output_type": "stream",
     "text": [
      "/=============================================\\\n",
      "| X-PSI: X-ray Pulse Simulation and Inference |\n",
      "|---------------------------------------------|\n",
      "|                Version: 2.0.0               |\n",
      "|---------------------------------------------|\n",
      "|      https://xpsi-group.github.io/xpsi      |\n",
      "\\=============================================/\n",
      "\n",
      "Imported GetDist version: 1.4\n",
      "Imported nestcheck version: 0.2.1\n",
      "this_directory:  /home/bas/Documents/Projects/x-psi/xpsi-bas-fork/AMXPs/J1808_synthetic\n",
      "atmosphere_type: A\n",
      "n_params: 5\n",
      "Setting channels for loaded instrument response (sub)matrix...\n",
      "Channels set.\n",
      "No parameters supplied... empty subspace created.\n",
      "Creating parameter:\n",
      "    > Named \"frequency\" with fixed value 4.010e+02.\n",
      "    > Spin frequency [Hz].\n",
      "Creating parameter:\n",
      "    > Named \"mass\" with bounds [1.000e+00, 3.000e+00].\n",
      "    > Gravitational mass [solar masses].\n",
      "Creating parameter:\n",
      "    > Named \"radius\" with bounds [4.430e+00, 1.600e+01].\n",
      "    > Coordinate equatorial radius [km].\n",
      "Creating parameter:\n",
      "    > Named \"distance\" with bounds [3.400e+00, 3.600e+00].\n",
      "    > Earth distance [kpc].\n",
      "Creating parameter:\n",
      "    > Named \"cos_inclination\" with bounds [0.000e+00, 1.000e+00].\n",
      "    > Cosine of Earth inclination to rotation axis.\n",
      "Creating parameter:\n",
      "    > Named \"super_tbb\" with bounds [1.000e-03, 3.000e-03].\n",
      "    > tbb.\n",
      "Creating parameter:\n",
      "    > Named \"super_te\" with bounds [4.000e+01, 2.000e+02].\n",
      "    > te.\n",
      "Creating parameter:\n",
      "    > Named \"super_tau\" with bounds [5.000e-01, 3.500e+00].\n",
      "    > tau.\n",
      "Creating parameter:\n",
      "    > Named \"super_colatitude\" with bounds [0.000e+00, 3.142e+00].\n",
      "    > The colatitude of the centre of the superseding region [radians].\n",
      "Creating parameter:\n",
      "    > Named \"super_radius\" with bounds [0.000e+00, 1.571e+00].\n",
      "    > The angular radius of the (circular) superseding region [radians].\n",
      "Creating parameter:\n",
      "    > Named \"phase_shift\" with bounds [-2.500e-01, 7.500e-01].\n",
      "    > The phase of the hot region, a periodic parameter [cycles].\n",
      "Creating parameter:\n",
      "    > Named \"elsewhere_temperature\" with bounds [5.000e+00, 7.000e+00].\n",
      "    > log10 of the effective temperature elsewhere.\n",
      "Creating parameter:\n",
      "    > Named \"mode_frequency\" with fixed value 4.010e+02.\n",
      "    > Coordinate frequency of the mode of radiative asymmetry in the\n",
      "photosphere that is assumed to generate the pulsed signal [Hz].\n",
      "No parameters supplied... empty subspace created.\n",
      "Creating parameter:\n",
      "    > Named \"column_density\" with bounds [0.000e+00, 1.000e+01].\n",
      "    > Units of 10^21 cm^-2.\n",
      "Creating parameter:\n",
      "    > Named \"T_in\" with bounds [3.000e+00, 1.000e+01].\n",
      "    > Temperature at inner disk radius in log10 Kelvin.\n",
      "Creating parameter:\n",
      "    > Named \"K_disk\" with bounds [0.000e+00, 1.000e+08].\n",
      "    > Disk normalisation cos_i*R_in^2/D^2 in (km / 10 kpc)^2.\n",
      "Setting channels for event data...\n",
      "Channels set.\n",
      "Creating parameter:\n",
      "    > Named \"phase_shift\" with fixed value 0.000e+00.\n",
      "    > The phase shift for the signal, a periodic parameter [cycles].\n",
      "No data... can synthesise data but cannot evaluate a likelihood function.\n",
      "Done !\n"
     ]
    }
   ],
   "source": [
    "#!/usr/bin/env python3\n",
    "# -*- coding: utf-8 -*-\n",
    "\"\"\"\n",
    "Created on Mon Feb 27 11:11:44 2023\n",
    "\n",
    "@author: bas\n",
    "copied from: https://github.com/xpsi-group/xpsi/blob/main/examples/examples_fast/Synthetic_data.ipynb\n",
    "\"\"\"\n",
    "\n",
    "\n",
    "\n",
    "import os\n",
    "import numpy as np\n",
    "import math\n",
    "\n",
    "\n",
    "from matplotlib import pyplot as plt\n",
    "from matplotlib import rcParams\n",
    "from matplotlib.offsetbox import AnchoredText\n",
    "from matplotlib.ticker import MultipleLocator, AutoLocator, AutoMinorLocator\n",
    "from matplotlib import gridspec\n",
    "from matplotlib import cm\n",
    "from matplotlib.patches import Rectangle\n",
    "import matplotlib.patches as mpatches\n",
    "\n",
    "\n",
    "import xpsi\n",
    "from xpsi import Parameter, HotRegions, Elsewhere\n",
    "from scipy.interpolate import Akima1DInterpolator\n",
    "from xpsi.global_imports import _c, _G, _dpr, gravradius, _csq, _km, _2pi\n",
    "from xpsi.tools.synthesise import synthesise_exposure_no_scaling as _synthesise # no scaling!\n",
    "\n",
    "import sys\n",
    "sys.path.append('../../')\n",
    "sys.path.append('../')\n",
    "from custom_tools import SynthesiseData, plot_one_pulse\n",
    "\n",
    "from CustomBackground import CustomBackground_DiskBB\n",
    "from CustomPrior import CustomPrior\n",
    "from CustomInstrument import CustomInstrument\n",
    "from CustomPhotosphere import CustomPhotosphere\n",
    "from CustomInterstellar import CustomInterstellar\n",
    "from CustomSignal import CustomSignal\n",
    "from CustomHotregion import CustomHotRegion_Accreting\n",
    "\n",
    "from helper_functions import get_T_in_log10_Kelvin, plot_2D_pulse\n",
    "\n",
    "this_directory = '/home/bas/Documents/Projects/x-psi/xpsi-bas-fork/AMXPs/J1808_synthetic'\n",
    "print('this_directory: ', this_directory)\n",
    "\n",
    "################################## SETTINGS ###################################\n",
    "\n",
    "second = False\n",
    "te_index = 0\n",
    "\n",
    "try: #try to get parameters from shell input\n",
    "    os.environ.get('atmosphere_type')    \n",
    "    atmosphere_type = os.environ['atmosphere_type']\n",
    "    os.environ.get('n_params')\n",
    "    n_params = os.environ['n_params']\n",
    "    os.environ.get('machine')\n",
    "    machine = os.environ['machine']\n",
    "except:\n",
    "    atmosphere_type = \"A\"\n",
    "    n_params = \"5\"\n",
    "    machine = \"local\"\n",
    "\n",
    "\n",
    "\n",
    "exposure_time=1.32366e5 ## is the same as Mason 2019\n",
    "\n",
    "print(\"atmosphere_type:\", atmosphere_type)\n",
    "print(\"n_params:\", n_params)\n",
    "\n",
    "################################## INSTRUMENT #################################\n",
    "channel_low = 20\n",
    "channel_hi = 300 #600\n",
    "max_input = 1400 #2000\n",
    "\n",
    "ARF_file=this_directory + '/../model_data/instrument_data/J1808_NICER_2019/merged_saxj1808_2019_arf_aeff.txt'\n",
    "RMF_file=this_directory + '/../model_data/instrument_data/J1808_NICER_2019/merged_saxj1808_2019_rmf_matrix.txt'\n",
    "channel_edges_file=this_directory + '/../model_data/instrument_data/J1808_NICER_2019/merged_saxj1808_2019_rmf_energymap.txt'\n",
    "\n",
    "try:   \n",
    "    NICER = CustomInstrument.from_response_files(ARF = ARF_file,\n",
    "            RMF = RMF_file,\n",
    "            channel_edges = channel_edges_file,\n",
    "            channel_low=channel_low,\n",
    "            channel_hi=channel_hi,\n",
    "            max_input=max_input)\n",
    "\n",
    "except:\n",
    "    print('error! No instrument file!')\n",
    "\n",
    "############################### SPACETIME #####################################\n",
    "\n",
    "bounds = dict(distance = (3.4, 3.6),                       # (Earth) distance\n",
    "                mass = (1.0, 3.0),                          # mass\n",
    "                radius = (3.0 * gravradius(1.0), 16.0),     # equatorial radius\n",
    "                cos_inclination = (0.0, 1.0))               # (Earth) inclination to rotation axis\n",
    "\n",
    "spacetime = xpsi.Spacetime(bounds=bounds, values=dict(frequency=401.0))# Fixing the spin\n",
    "\n",
    "############################### SINGLE HOTREGION ##############################\n",
    "\n",
    "num_leaves = 128\n",
    "sqrt_num_cells = 128\n",
    "num_rays = 512\n",
    "\n",
    "kwargs = {'symmetry': 'azimuthal_invariance', #call general integrator instead of for azimuthal invariance\n",
    "          'interpolator': 'split',\n",
    "          'omit': False,\n",
    "          'cede': False,\n",
    "          'concentric': False,\n",
    "          'sqrt_num_cells': sqrt_num_cells,\n",
    "          'min_sqrt_num_cells': 10,\n",
    "          'max_sqrt_num_cells': 128,\n",
    "          'num_leaves': num_leaves,\n",
    "          'num_rays': num_rays,\n",
    "          'prefix': 'p'}\n",
    "values = {}\n",
    "bounds = dict(super_colatitude = (None, None),\n",
    "              super_radius = (None, None),\n",
    "              phase_shift = (-0.25, 0.75))\n",
    "if atmosphere_type=='A':\n",
    "    bounds['super_tbb'] = (0.001, 0.003)\n",
    "    bounds['super_tau'] = (0.5, 3.5)\n",
    "    if n_params=='5':\n",
    "        bounds['super_te'] = (40., 200.)\n",
    "        primary = CustomHotRegion_Accreting(bounds, values, **kwargs)\n",
    "\n",
    "hot = HotRegions((primary,))\n",
    "\n",
    "\n",
    "################################### ELSEWHERE ################################\n",
    "\n",
    "elsewhere = Elsewhere(bounds=dict(elsewhere_temperature = (5.0,7.0)))\n",
    "\n",
    "################################ ATMOSPHERE ################################### \n",
    "      \n",
    "\n",
    "photosphere = CustomPhotosphere(hot = hot, elsewhere = elsewhere,\n",
    "                                values=dict(mode_frequency = spacetime['frequency']))\n",
    "# LOCAL\n",
    "if machine=='local':\n",
    "    photosphere.hot_atmosphere = '/home/bas/Documents/Projects/x-psi/model_datas/bobrikova/Bobrikova_compton_slab.npz'\n",
    "# SNELLIUS\n",
    "elif machine=='snellius':\n",
    "    photosphere.hot_atmosphere = '/home/dorsman/xpsi-bas-fork/AMXPs/model_data/Bobrikova_compton_slab.npz'\n",
    "\n",
    "    \n",
    "################################### STAR ######################################\n",
    "\n",
    "star = xpsi.Star(spacetime = spacetime, photospheres = photosphere)\n",
    "\n",
    "#################################### PRIOR ####################################\n",
    "\n",
    "prior = CustomPrior()\n",
    "\n",
    "################################## INTERSTELLAR ###################################\n",
    "if machine=='local':\n",
    "    interstellar = CustomInterstellar.from_SWG(\"/home/bas/Documents/Projects/x-psi/xpsi-bas-fork/AMXPs/model_data/n_H/TBnew/tbnew0.14.txt\", bounds=(None, None), value=None)\n",
    "elif machine=='snellius':\n",
    "    interstellar = CustomInterstellar.from_SWG(\"/home/dorsman/xpsi-bas-fork/AMXPs/model_data/interstellar/tbnew/tbnew0.14.txt\", bounds=(None, None), value=None)\n",
    "\n",
    "\n",
    "############################### BACKGROUND ####################################\n",
    "\n",
    "background = CustomBackground_DiskBB(bounds=(None, None), values={}, interstellar = interstellar)\n",
    "\n",
    "###################### SYNTHESISE DATA #################################\n",
    "\n",
    "phases_space = np.linspace(0.0, 1.0, 33)\n",
    "_data = SynthesiseData(np.arange(channel_low,channel_hi), phases_space, 0, channel_hi-channel_low-1)\n",
    "\n",
    "################################## SIGNAL ###################################\n",
    "\n",
    "signal = CustomSignal(data = _data,\n",
    "                        instrument = NICER,  # Instrument\n",
    "                        background = background,\n",
    "                        interstellar = interstellar,\n",
    "                        cache = True,\n",
    "                        prefix='Instrument') # I can't change this?\n",
    "\n",
    "################################# LIKELIHOOD ###############################\n",
    "\n",
    "likelihood = xpsi.Likelihood(star = star, signals = signal,\n",
    "                             num_energies=128, #384\n",
    "                             threads=8, #1\n",
    "                             externally_updated=False,\n",
    "                             prior = prior)                             \n",
    "\n",
    "for h in hot.objects:\n",
    "    h.set_phases(num_leaves)\n",
    "\n",
    "\n",
    "# SAX J1808-like \n",
    "mass = 1.4\n",
    "radius = 12.\n",
    "distance = 3.5\n",
    "inclination = 60\n",
    "cos_i = math.cos(inclination*math.pi/180)\n",
    "\n",
    "# Hotspot\n",
    "phase_shift = 0\n",
    "super_colatitude = 45*math.pi/180 # 20*math.pi/180 # \n",
    "super_radius = 15.5*math.pi/180\n",
    "\n",
    "\n",
    "\n",
    "# Compton slab model parameters\n",
    "tbb=0.0012 # 0.0017 #0.001 -0.003 Tbb(data) = Tbb(keV)/511keV, 1 keV = 0.002 data\n",
    "te=100. # 50. # 40-200 corresponds to 20-100 keV (Te(data) = Te(keV)*1000/511keV), 50 keV = 100 data\n",
    "tau=1. #0.5 - 3.5 tau = ln(Fin/Fout)\n",
    "\n",
    "# elsewhere\n",
    "elsewhere_T_keV = 0.4 # 0.5 #  keV \n",
    "\n",
    "# source background\n",
    "column_density = 1.17 #10^21 cm^-2\n",
    "diskbb_T_keV = 0.25 # 0.3  #  keV #0.3 keV for Kajava+ 2011\n",
    "r_in = 30 # 20 #  1 #  km #  for very small diskBB background\n",
    "\n",
    "p = [mass, #1.4, #grav mass\n",
    "      radius,#12.5, #coordinate equatorial radius\n",
    "      distance, # earth distance kpc\n",
    "      cos_i, #cosine of earth inclination\n",
    "      phase_shift, #phase of hotregion\n",
    "      super_colatitude, #colatitude of centre of superseding region\n",
    "      super_radius,  #angular radius superceding region\n",
    "      tbb,\n",
    "      te,\n",
    "      tau\n",
    "      ]\n",
    "\n",
    "elsewhere_T_log10_K = get_T_in_log10_Kelvin(elsewhere_T_keV)\n",
    "p.append(elsewhere_T_log10_K) # 10^x Kelvin\n",
    "\n",
    "diskbb_T_log10_K = get_T_in_log10_Kelvin(diskbb_T_keV)\n",
    "p.append(diskbb_T_log10_K)\n",
    "\n",
    "K_disk = cos_i*(r_in/(distance/10))**2  # (km / 10 kpc)^2\n",
    "# K_disk = 0\n",
    "p.append(K_disk)\n",
    "\n",
    "if isinstance(interstellar, xpsi.Interstellar):\n",
    "\n",
    "    p.append(column_density)\n",
    "\n",
    "Instrument_kwargs = dict(exposure_time=exposure_time,\n",
    "                         name='J1808_synthetic',\n",
    "                         directory='./data/')\n",
    "\n",
    "\n",
    "likelihood.synthesise(p, force=True, Instrument=Instrument_kwargs) \n",
    "\n",
    "print(\"Done !\")\n",
    "\n"
   ]
  },
  {
   "cell_type": "code",
   "execution_count": 2,
   "id": "a56dfd08",
   "metadata": {},
   "outputs": [
    {
     "data": {
      "text/plain": [
       "array([[0.00332602, 0.00332342, 0.00332054, ..., 0.00333026, 0.00332831,\n",
       "        0.00332602],\n",
       "       [0.00486029, 0.00485653, 0.00485236, ..., 0.00486644, 0.0048636 ,\n",
       "        0.00486029],\n",
       "       [0.00683956, 0.00683443, 0.00682874, ..., 0.00684795, 0.00684408,\n",
       "        0.00683956],\n",
       "       ...,\n",
       "       [0.02895576, 0.02874431, 0.02852479, ..., 0.0293494 , 0.02915788,\n",
       "        0.02895576],\n",
       "       [0.02845756, 0.02824784, 0.02803017, ..., 0.02884818, 0.02865809,\n",
       "        0.02845756],\n",
       "       [0.02796369, 0.02775573, 0.02753994, ..., 0.02835123, 0.02816261,\n",
       "        0.02796369]])"
      ]
     },
     "execution_count": 2,
     "metadata": {},
     "output_type": "execute_result"
    }
   ],
   "source": [
    "signal.signals[0]"
   ]
  },
  {
   "cell_type": "code",
   "execution_count": 3,
   "id": "391f4430",
   "metadata": {},
   "outputs": [
    {
     "data": {
      "text/plain": [
       "array([[ 23.30776167,  23.25070395,  23.18170858, ...,  23.35466884,\n",
       "         23.36449758,  23.3474536 ],\n",
       "       [ 36.00829256,  35.92590294,  35.82639879, ...,  36.0768276 ,\n",
       "         36.0906234 ,  36.06574126],\n",
       "       [ 54.30490345,  54.19238225,  54.05647447, ...,  54.39831686,\n",
       "         54.41725343,  54.38333461],\n",
       "       ...,\n",
       "       [119.16416359, 115.33605996, 111.31633037, ..., 126.60572421,\n",
       "        125.12856444, 122.53514507],\n",
       "       [117.07561963, 113.28201554, 109.30130996, ..., 124.4718123 ,\n",
       "        122.99697697, 120.4196652 ],\n",
       "       [115.00657259, 111.2479597 , 107.3067312 , ..., 122.35594214,\n",
       "        120.88386854, 118.32316788]])"
      ]
     },
     "execution_count": 3,
     "metadata": {},
     "output_type": "execute_result"
    }
   ],
   "source": [
    "signal.expected_counts"
   ]
  },
  {
   "cell_type": "code",
   "execution_count": 4,
   "id": "48e3aaa7",
   "metadata": {},
   "outputs": [
    {
     "data": {
      "text/plain": [
       "array([[ 23.30776167,  23.25070395,  23.18170858, ...,  23.35466884,\n",
       "         23.36449758,  23.3474536 ],\n",
       "       [ 36.00829256,  35.92590294,  35.82639879, ...,  36.0768276 ,\n",
       "         36.0906234 ,  36.06574126],\n",
       "       [ 54.30490345,  54.19238225,  54.05647447, ...,  54.39831686,\n",
       "         54.41725343,  54.38333461],\n",
       "       ...,\n",
       "       [119.16416359, 115.33605996, 111.31633037, ..., 126.60572421,\n",
       "        125.12856444, 122.53514507],\n",
       "       [117.07561963, 113.28201554, 109.30130996, ..., 124.4718123 ,\n",
       "        122.99697697, 120.4196652 ],\n",
       "       [115.00657259, 111.2479597 , 107.3067312 , ..., 122.35594214,\n",
       "        120.88386854, 118.32316788]])"
      ]
     },
     "execution_count": 4,
     "metadata": {},
     "output_type": "execute_result"
    }
   ],
   "source": [
    "(signal.background.registered_background+signal.star_counts)*exposure_time"
   ]
  },
  {
   "cell_type": "code",
   "execution_count": 5,
   "id": "677c88a4",
   "metadata": {},
   "outputs": [
    {
     "data": {
      "text/plain": [
       "array([[0.00010376, 0.00010333, 0.00010281, ..., 0.00010412, 0.00010419,\n",
       "        0.00010406],\n",
       "       [0.00015163, 0.00015101, 0.00015026, ..., 0.00015215, 0.00015225,\n",
       "        0.00015206],\n",
       "       [0.00021339, 0.00021254, 0.00021151, ..., 0.0002141 , 0.00021424,\n",
       "        0.00021398],\n",
       "       ...,\n",
       "       [0.00089137, 0.00086245, 0.00083208, ..., 0.00094759, 0.00093643,\n",
       "        0.00091683],\n",
       "       [0.00087591, 0.00084725, 0.00081718, ..., 0.00093179, 0.00092065,\n",
       "        0.00090117],\n",
       "       [0.00086059, 0.0008322 , 0.00080242, ..., 0.00091612, 0.00090499,\n",
       "        0.00088565]])"
      ]
     },
     "execution_count": 5,
     "metadata": {},
     "output_type": "execute_result"
    }
   ],
   "source": [
    "signal.star_counts"
   ]
  },
  {
   "cell_type": "code",
   "execution_count": 6,
   "id": "a5038197",
   "metadata": {},
   "outputs": [
    {
     "name": "stdout",
     "output_type": "stream",
     "text": [
      "data plot saved in plots/J1808_synthetic_realisation_exp_time=132366.0.png\n",
      "signal plot saved in plots/J1808.png\n",
      "26094259.0\n"
     ]
    },
    {
     "data": {
      "image/png": "[encoded data removed]",
      "text/plain": [
       "<Figure size 500x300 with 2 Axes>"
      ]
     },
     "metadata": {},
     "output_type": "display_data"
    },
    {
     "data": {
      "image/png": "[encoded data removed]",
      "text/plain": [
       "<Figure size 500x300 with 2 Axes>"
      ]
     },
     "metadata": {},
     "output_type": "display_data"
    }
   ],
   "source": [
    "########## DATA PLOT ###############\n",
    "\n",
    "my_data=np.loadtxt('./data/J1808_synthetic_realisation.dat'.format(atmosphere_type, n_params))\n",
    "\n",
    "\n",
    "figstring = f'J1808_synthetic_realisation_exp_time={exposure_time}.png'\n",
    "\n",
    "\n",
    "fig1,ax1 = plot_one_pulse(my_data, phases_space, NICER.channel_edges, cm=cm.jet)\n",
    "\n",
    "try:\n",
    "    os.makedirs('./plots')\n",
    "except OSError:\n",
    "    if not os.path.isdir('./plots'):\n",
    "        raise\n",
    "fig1.savefig('./plots/'+figstring)\n",
    "print('data plot saved in plots/{}'.format(figstring))\n",
    "\n",
    "################ SIGNAL PLOT ###################################\n",
    "\n",
    "num_rotations=1\n",
    "\n",
    "fig2,ax2 = plot_2D_pulse((photosphere.signal[0][0],),\n",
    "              x=signal.phases[0],\n",
    "              shift=signal.shifts,\n",
    "              y=signal.energies,\n",
    "              ylabel=r'Energy (keV)',\n",
    "              num_rotations=num_rotations,\n",
    "              res=int(30*num_rotations))\n",
    "\n",
    "\n",
    "ax2.set_title('atm={} params={} te={:.2e} [keV], tbb={:.2e} [keV], tau={:.2e} [-]'.format(atmosphere_type, n_params, te*0.511, tbb*511, tau), loc='center') #unit conversion te and tbb is different due to a cluster leftover according to Anna B.\n",
    "\n",
    "\n",
    "fig2.savefig('./plots/J1808.png')\n",
    "print('signal plot saved in plots/J1808.png')\n",
    "\n",
    "print(np.sum(my_data))\n"
   ]
  },
  {
   "cell_type": "code",
   "execution_count": 7,
   "id": "eca31766",
   "metadata": {},
   "outputs": [
    {
     "data": {
      "text/plain": [
       "array([[ 26.,  23.,  21., ...,  22.,  21.,  21.],\n",
       "       [ 35.,  38.,  34., ...,  42.,  35.,  29.],\n",
       "       [ 64.,  55.,  54., ...,  59.,  44.,  67.],\n",
       "       ...,\n",
       "       [112.,  94.,  93., ..., 130., 124., 104.],\n",
       "       [116., 100., 111., ..., 132., 117., 125.],\n",
       "       [110., 107., 112., ..., 127., 129., 138.]])"
      ]
     },
     "execution_count": 7,
     "metadata": {},
     "output_type": "execute_result"
    }
   ],
   "source": [
    "my_data"
   ]
  },
  {
   "cell_type": "code",
   "execution_count": 8,
   "id": "85c38b32",
   "metadata": {},
   "outputs": [
    {
     "name": "stdout",
     "output_type": "stream",
     "text": [
      "Setting channels for event data...\n",
      "Channels set.\n",
      "Creating parameter:\n",
      "    > Named \"phase_shift\" with fixed value 0.000e+00.\n",
      "    > The phase shift for the signal, a periodic parameter [cycles].\n",
      "True Likelihood:  -46404.12522540618\n",
      "Summed difference:  326318.48391429737\n"
     ]
    }
   ],
   "source": [
    "################ likelihood check ###############################\n",
    "datastring = this_directory + '/data/J1808_synthetic_realisation.dat' \n",
    "settings = dict(counts = np.loadtxt(datastring, dtype=np.double),\n",
    "                channels=np.arange(channel_low,channel_hi),\n",
    "                phases=phases_space,\n",
    "                first=0, last=channel_hi-channel_low-1,\n",
    "                exposure_time=exposure_time)\n",
    "\n",
    "data_for_check = xpsi.Data(**settings)\n",
    "\n",
    "signal_for_check = CustomSignal(data = data_for_check,\n",
    "                        instrument = NICER,  # Instrument\n",
    "                        background = None,\n",
    "                        interstellar = interstellar,\n",
    "                        cache = True,\n",
    "                        prefix='Instrument')\n",
    "\n",
    "likelihood_for_check = xpsi.Likelihood(star = star, signals = signal_for_check,\n",
    "                             num_energies=128, \n",
    "                             threads=8, #1\n",
    "                             externally_updated=True,\n",
    "                             prior = prior)\n",
    "\n",
    "p_cut = p[:-3]\n",
    "p_cut.append(column_density)\n",
    "\n",
    "print('True Likelihood: ', likelihood_for_check(p_cut, reinitialise=True))\n",
    "print('Summed difference: ', np.sum(abs(likelihood_for_check.signal.expected_counts-data_for_check.counts)))"
   ]
  },
  {
   "cell_type": "markdown",
   "id": "eb613c65",
   "metadata": {},
   "source": [
    "plot_one_pulse(likelihood_for_check.signal.expected_counts-data_for_check.counts, phases_space, NICER.channel_edges)"
   ]
  },
  {
   "cell_type": "code",
   "execution_count": 9,
   "id": "88911ab5",
   "metadata": {},
   "outputs": [
    {
     "data": {
      "text/plain": [
       "(280, 128)"
      ]
     },
     "execution_count": 9,
     "metadata": {},
     "output_type": "execute_result"
    }
   ],
   "source": [
    "signal_for_check.signals[0].shape"
   ]
  },
  {
   "cell_type": "code",
   "execution_count": 10,
   "id": "d3c83bda",
   "metadata": {},
   "outputs": [
    {
     "data": {
      "text/plain": [
       "array([[ 23.06106261,  23.0040049 ,  22.93500952, ...,  23.10796978,\n",
       "         23.11779852,  23.10075455],\n",
       "       [ 34.02099441,  33.93860479,  33.83910064, ...,  34.08952946,\n",
       "         34.10332526,  34.07844311],\n",
       "       [ 55.30057952,  55.18805832,  55.05215054, ...,  55.39399293,\n",
       "         55.4129295 ,  55.37901068],\n",
       "       ...,\n",
       "       [117.98664192, 114.15853829, 110.13880871, ..., 125.42820255,\n",
       "        123.95104278, 121.3576234 ],\n",
       "       [116.66543712, 112.87183303, 108.89112746, ..., 124.06162979,\n",
       "        122.58679446, 120.0094827 ],\n",
       "       [116.06309598, 112.30448309, 108.36325459, ..., 123.41246553,\n",
       "        121.94039193, 119.37969127]])"
      ]
     },
     "execution_count": 10,
     "metadata": {},
     "output_type": "execute_result"
    }
   ],
   "source": [
    "signal_for_check.expected_counts"
   ]
  },
  {
   "cell_type": "code",
   "execution_count": 11,
   "id": "9d9c9b8e",
   "metadata": {},
   "outputs": [],
   "source": [
    "summed_loglike, loglike, expected_counts, star = signal_for_check.poisson_likelihood_given_background(signal.background.registered_background)"
   ]
  },
  {
   "cell_type": "code",
   "execution_count": 12,
   "id": "11b9c15d",
   "metadata": {},
   "outputs": [
    {
     "data": {
      "text/plain": [
       "array([[ 23.30776167,  23.25070395,  23.18170858, ...,  23.35466884,\n",
       "         23.36449758,  23.3474536 ],\n",
       "       [ 36.00829256,  35.92590294,  35.82639879, ...,  36.0768276 ,\n",
       "         36.0906234 ,  36.06574126],\n",
       "       [ 54.30490345,  54.19238225,  54.05647447, ...,  54.39831686,\n",
       "         54.41725343,  54.38333461],\n",
       "       ...,\n",
       "       [119.16416359, 115.33605996, 111.31633037, ..., 126.60572421,\n",
       "        125.12856444, 122.53514507],\n",
       "       [117.07561963, 113.28201554, 109.30130996, ..., 124.4718123 ,\n",
       "        122.99697697, 120.4196652 ],\n",
       "       [115.00657259, 111.2479597 , 107.3067312 , ..., 122.35594214,\n",
       "        120.88386854, 118.32316788]])"
      ]
     },
     "execution_count": 12,
     "metadata": {},
     "output_type": "execute_result"
    }
   ],
   "source": [
    "expected_counts"
   ]
  },
  {
   "cell_type": "code",
   "execution_count": null,
   "id": "ad76b998",
   "metadata": {},
   "outputs": [],
   "source": []
  }
 ],
 "metadata": {
  "kernelspec": {
   "display_name": "Python 3 (ipykernel)",
   "language": "python",
   "name": "python3"
  },
  "language_info": {
   "codemirror_mode": {
    "name": "ipython",
    "version": 3
   },
   "file_extension": ".py",
   "mimetype": "text/x-python",
   "name": "python",
   "nbconvert_exporter": "python",
   "pygments_lexer": "ipython3",
   "version": "3.10.9"
  }
 },
 "nbformat": 4,
 "nbformat_minor": 5
}
