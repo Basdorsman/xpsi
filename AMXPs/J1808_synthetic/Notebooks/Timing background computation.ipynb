{
 "cells": [
  {
   "cell_type": "code",
   "execution_count": 1,
   "id": "3db6ae2f",
   "metadata": {},
   "outputs": [
    {
     "name": "stdout",
     "output_type": "stream",
     "text": [
      "/=============================================\\\n",
      "| X-PSI: X-ray Pulse Simulation and Inference |\n",
      "|---------------------------------------------|\n",
      "|                Version: 2.0.0               |\n",
      "|---------------------------------------------|\n",
      "|      https://xpsi-group.github.io/xpsi      |\n",
      "\\=============================================/\n",
      "\n",
      "Imported GetDist version: 1.4\n",
      "Imported nestcheck version: 0.2.1\n"
     ]
    }
   ],
   "source": [
    "import math\n",
    "import numpy as np\n",
    "import sys\n",
    "import time\n",
    "sys.path.append('../')\n",
    "\n",
    "from CustomBackground import CustomBackground_DiskBB\n",
    "from CustomInstrument import CustomInstrument\n",
    "from helper_functions import get_T_in_log10_Kelvin\n",
    "\n",
    "import matplotlib.pyplot as plt"
   ]
  },
  {
   "cell_type": "code",
   "execution_count": 2,
   "id": "9c67f55a",
   "metadata": {},
   "outputs": [
    {
     "name": "stdout",
     "output_type": "stream",
     "text": [
      "Creating parameter:\n",
      "    > Named \"T_in\" with bounds [3.000e+00, 1.000e+01].\n",
      "    > Temperature at inner disk radius in log10 Kelvin.\n",
      "Creating parameter:\n",
      "    > Named \"K_disk\" with bounds [0.000e+00, 1.000e+08].\n",
      "    > Disk normalisation cos_i*R_in^2/D^2 in (km / 10 kpc)^2.\n"
     ]
    }
   ],
   "source": [
    "background = CustomBackground_DiskBB(bounds=(None, None), values={}, interstellar = None)\n",
    "\n",
    "diskbb_T_keV = 0.25 # 0.3  #  keV #0.3 keV for Kajava+ 2011\n",
    "background['T_in'] = get_T_in_log10_Kelvin(diskbb_T_keV)\n",
    "\n",
    "r_in = 30 # 20 #  1 #  km #  for very small diskBB background\n",
    "distance = 3.5\n",
    "inclination = 60\n",
    "cos_i = math.cos(inclination*math.pi/180)\n",
    "background['K_disk'] = cos_i*(r_in/(distance/10))**2  # (km / 10 kpc)^2\n"
   ]
  },
  {
   "cell_type": "code",
   "execution_count": 3,
   "id": "2de0a88f",
   "metadata": {},
   "outputs": [
    {
     "name": "stdout",
     "output_type": "stream",
     "text": [
      "Setting channels for loaded instrument response (sub)matrix...\n",
      "Channels set.\n",
      "No parameters supplied... empty subspace created.\n"
     ]
    }
   ],
   "source": [
    "this_directory = '..'\n",
    "ARF_file=this_directory + '/../model_data/instrument_data/J1808_NICER_2019/merged_saxj1808_2019_arf_aeff.txt'\n",
    "RMF_file=this_directory + '/../model_data/instrument_data/J1808_NICER_2019/merged_saxj1808_2019_rmf_matrix.txt'\n",
    "channel_edges_file=this_directory + '/../model_data/instrument_data/J1808_NICER_2019/merged_saxj1808_2019_rmf_energymap.txt'\n",
    "\n",
    "exposure_time = 1.32366e5 #Mason's 2019 data cut\n",
    "channel_low = 20\n",
    "channel_hi = 300\n",
    "max_input = 1400\n",
    "phases_space = np.linspace(0.0, 1.0, 33)\n",
    "\n",
    "NICER = CustomInstrument.from_response_files(ARF = ARF_file,\n",
    "        RMF = RMF_file,\n",
    "        channel_edges = channel_edges_file,       \n",
    "        channel_low=channel_low,\n",
    "        channel_hi=channel_hi,\n",
    "        max_input=max_input)\n"
   ]
  },
  {
   "cell_type": "code",
   "execution_count": 4,
   "id": "0077c0bc",
   "metadata": {},
   "outputs": [
    {
     "name": "stdout",
     "output_type": "stream",
     "text": [
      "0.008472490310668945\n"
     ]
    }
   ],
   "source": [
    "repeats = 10\n",
    "time_start = time.time()\n",
    "for repeat in range(repeats):\n",
    "    background(phases_space, NICER.energy_edges)\n",
    "time_end = time.time()\n",
    "\n",
    "print((time_end-time_start)/10)"
   ]
  },
  {
   "cell_type": "code",
   "execution_count": 5,
   "id": "d59f0ccc",
   "metadata": {},
   "outputs": [],
   "source": [
    "bkg_slow = background.incident_background[:,0]"
   ]
  },
  {
   "cell_type": "code",
   "execution_count": 6,
   "id": "14b5ab43",
   "metadata": {},
   "outputs": [],
   "source": [
    "# background.alternative_call(phases_space, NICER.energy_edges)"
   ]
  },
  {
   "cell_type": "code",
   "execution_count": 7,
   "id": "3b001736",
   "metadata": {},
   "outputs": [],
   "source": [
    "# bkg_fast = background.incident_background[:,0]"
   ]
  },
  {
   "cell_type": "code",
   "execution_count": 8,
   "id": "aa6a5742",
   "metadata": {},
   "outputs": [
    {
     "data": {
      "text/plain": [
       "<matplotlib.legend.Legend at 0x7f1bd30f6e60>"
      ]
     },
     "execution_count": 8,
     "metadata": {},
     "output_type": "execute_result"
    },
    {
     "data": {
      "image/png": "[encoded data removed]",
      "text/plain": [
       "<Figure size 640x480 with 1 Axes>"
      ]
     },
     "metadata": {},
     "output_type": "display_data"
    }
   ],
   "source": [
    "fig, ax = plt.subplots()\n",
    "\n",
    "ax.plot(bkg_slow, label='slow')\n",
    "# ax.plot(bkg_fast, label='fast')\n",
    "ax.legend()"
   ]
  },
  {
   "cell_type": "markdown",
   "id": "ace59e41",
   "metadata": {},
   "source": [
    "# flux per energy"
   ]
  },
  {
   "cell_type": "code",
   "execution_count": 9,
   "id": "ab5cfd9b",
   "metadata": {},
   "outputs": [
    {
     "data": {
      "text/plain": [
       "4.427714319465231e+30"
      ]
     },
     "execution_count": 9,
     "metadata": {},
     "output_type": "execute_result"
    }
   ],
   "source": [
    "E = 0.03125\n",
    "T = 0.1\n",
    "T_in = 0.25000000000000017\n",
    "T_out =  0.02500000000000002\n",
    "epsrel = 1e-4\n",
    "\n",
    "background.diskbb_flux(E, T_in, T_out, background.b_E, epsrel)"
   ]
  },
  {
   "cell_type": "code",
   "execution_count": 10,
   "id": "cc042fd4",
   "metadata": {},
   "outputs": [
    {
     "data": {
      "text/plain": [
       "4.4277143220252686e+30"
      ]
     },
     "execution_count": 10,
     "metadata": {},
     "output_type": "execute_result"
    }
   ],
   "source": [
    "from xpsi.tools.background_integrator import disk_f_E\n",
    "disk_f_E(E, T_in, T_out, epsrel)"
   ]
  },
  {
   "cell_type": "markdown",
   "id": "7963d151",
   "metadata": {},
   "source": [
    "# disk integrand"
   ]
  },
  {
   "cell_type": "code",
   "execution_count": 11,
   "id": "08a03931",
   "metadata": {},
   "outputs": [
    {
     "data": {
      "text/plain": [
       "9.641638544308662e+30"
      ]
     },
     "execution_count": 11,
     "metadata": {},
     "output_type": "execute_result"
    }
   ],
   "source": [
    "background.diskbb_integrand(T, E, T_in, background.b_E)"
   ]
  },
  {
   "cell_type": "code",
   "execution_count": 12,
   "id": "f66b5ce4",
   "metadata": {},
   "outputs": [
    {
     "data": {
      "text/plain": [
       "9.641638544308662e+30"
      ]
     },
     "execution_count": 12,
     "metadata": {},
     "output_type": "execute_result"
    }
   ],
   "source": [
    "from xpsi.tools.background_integrator import disk_integrand\n",
    "disk_integrand(T, E, T_in)"
   ]
  },
  {
   "cell_type": "markdown",
   "id": "6659c271",
   "metadata": {},
   "source": [
    "# b_E"
   ]
  },
  {
   "cell_type": "code",
   "execution_count": 13,
   "id": "5c43a2d2",
   "metadata": {},
   "outputs": [
    {
     "data": {
      "text/plain": [
       "8.374858725603796e+28"
      ]
     },
     "execution_count": 13,
     "metadata": {},
     "output_type": "execute_result"
    }
   ],
   "source": [
    "from xpsi.tools.background_integrator import b_E\n",
    "b_E(T, E)"
   ]
  },
  {
   "cell_type": "code",
   "execution_count": 14,
   "id": "2d24a786",
   "metadata": {},
   "outputs": [
    {
     "data": {
      "text/plain": [
       "8.374858725603796e+28"
      ]
     },
     "execution_count": 14,
     "metadata": {},
     "output_type": "execute_result"
    }
   ],
   "source": [
    "background.b_E(E, T)"
   ]
  }
 ],
 "metadata": {
  "kernelspec": {
   "display_name": "Python 3 (ipykernel)",
   "language": "python",
   "name": "python3"
  },
  "language_info": {
   "codemirror_mode": {
    "name": "ipython",
    "version": 3
   },
   "file_extension": ".py",
   "mimetype": "text/x-python",
   "name": "python",
   "nbconvert_exporter": "python",
   "pygments_lexer": "ipython3",
   "version": "3.10.9"
  }
 },
 "nbformat": 4,
 "nbformat_minor": 5
}
