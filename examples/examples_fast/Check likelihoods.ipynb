{
 "cells": [
  {
   "cell_type": "code",
   "execution_count": 1,
   "id": "0c52e28f",
   "metadata": {},
   "outputs": [
    {
     "name": "stdout",
     "output_type": "stream",
     "text": [
      "/=============================================\\\n",
      "| X-PSI: X-ray Pulse Simulation and Inference |\n",
      "|---------------------------------------------|\n",
      "|                Version: 2.0.0               |\n",
      "|---------------------------------------------|\n",
      "|      https://xpsi-group.github.io/xpsi      |\n",
      "\\=============================================/\n",
      "\n",
      "Imported GetDist version: 1.4\n",
      "Imported nestcheck version: 0.2.1\n",
      "Setting channels for event data...\n",
      "Channels set.\n",
      "Setting channels for loaded instrument response (sub)matrix...\n",
      "Channels set.\n",
      "No parameters supplied... empty subspace created.\n",
      "Creating parameter:\n",
      "    > Named \"phase_shift\" with fixed value 0.000e+00.\n",
      "    > The phase shift for the signal, a periodic parameter [cycles].\n",
      "Creating parameter:\n",
      "    > Named \"frequency\" with fixed value 3.140e+02.\n",
      "    > Spin frequency [Hz].\n",
      "Creating parameter:\n",
      "    > Named \"mass\" with bounds [1.000e+00, 1.600e+00].\n",
      "    > Gravitational mass [solar masses].\n",
      "Creating parameter:\n",
      "    > Named \"radius\" with bounds [1.000e+01, 1.300e+01].\n",
      "    > Coordinate equatorial radius [km].\n",
      "Creating parameter:\n",
      "    > Named \"distance\" with bounds [5.000e-01, 2.000e+00].\n",
      "    > Earth distance [kpc].\n",
      "Creating parameter:\n",
      "    > Named \"cos_inclination\" with bounds [0.000e+00, 1.000e+00].\n",
      "    > Cosine of Earth inclination to rotation axis.\n",
      "Creating parameter:\n",
      "    > Named \"super_colatitude\" with bounds [1.000e-03, 1.570e+00].\n",
      "    > The colatitude of the centre of the superseding region [radians].\n",
      "Creating parameter:\n",
      "    > Named \"super_radius\" with bounds [1.000e-03, 1.570e+00].\n",
      "    > The angular radius of the (circular) superseding region [radians].\n",
      "Creating parameter:\n",
      "    > Named \"phase_shift\" with bounds [-2.500e-01, 7.500e-01].\n",
      "    > The phase of the hot region, a periodic parameter [cycles].\n",
      "Creating parameter:\n",
      "    > Named \"super_temperature\" with bounds [6.000e+00, 7.000e+00].\n",
      "    > log10(superseding region effective temperature [K]).\n",
      "Creating parameter:\n",
      "    > Named \"mode_frequency\" with fixed value 3.140e+02.\n",
      "    > Coordinate frequency of the mode of radiative asymmetry in the\n",
      "photosphere that is assumed to generate the pulsed signal [Hz].\n",
      "No parameters supplied... empty subspace created.\n",
      "Checking likelihood and prior evaluation before commencing sampling...\n",
      "Not using ``allclose`` function from NumPy.\n",
      "Using fallback implementation instead.\n",
      "Checking closeness of likelihood arrays:\n",
      "-2.7122069418e+04 | -2.7122069418e+04 .....\n",
      "Closeness evaluated.\n",
      "Log-likelihood value checks passed on root process.\n",
      "Checks passed.\n"
     ]
    }
   ],
   "source": [
    "import sys\n",
    "sys.path.append('Modules/')\n",
    "import main as ST"
   ]
  },
  {
   "cell_type": "code",
   "execution_count": 2,
   "id": "78b3429d",
   "metadata": {},
   "outputs": [
    {
     "data": {
      "text/plain": [
       "-26783.88105910467"
      ]
     },
     "execution_count": 2,
     "metadata": {},
     "output_type": "execute_result"
    }
   ],
   "source": [
    "# p_maxl = [0.140729831077047574E+01,\n",
    "# 0.112754312069711862E+02,\n",
    "# 0.993531718270466269E+00,\n",
    "# 0.427639845473182845E+00,\n",
    "# 0.974755376008162866E-03,\n",
    "# 0.132663989250688275E+01,\n",
    "# 0.783509511455017016E+00,\n",
    "# 0.670837772459226311E+01]\n",
    "\n",
    "\n",
    "p_maxl = [0.140729831077047574E+01,\n",
    "0.112754312069711862E+02,\n",
    "0.993531718270466269E+00,\n",
    "0.427639845473182845E+00,\n",
    "0.974755376008162866E-03,\n",
    "0.132663989250688275E+01,\n",
    "0.783509511455017016E+00,\n",
    "0.670837772459226311E+01]\n",
    "\n",
    "ST.likelihood(p_maxl, reinitialise=True)"
   ]
  },
  {
   "cell_type": "code",
   "execution_count": 3,
   "id": "96d0d65d",
   "metadata": {},
   "outputs": [
    {
     "data": {
      "text/plain": [
       "-26786.82226612034"
      ]
     },
     "execution_count": 3,
     "metadata": {},
     "output_type": "execute_result"
    }
   ],
   "source": [
    "p_maxl = [0.150421634563039386E+01,\n",
    "0.120065062474972510E+02,\n",
    "0.113807749576365169E+01,\n",
    "0.212916092166865079E+00,\n",
    "0.390556622243742879E-03,\n",
    "0.118927286295853585E+01,\n",
    "0.859789835638987254E+00,\n",
    "0.670724209691900608E+01]\n",
    "\n",
    "ST.likelihood(p_maxl, reinitialise=True)"
   ]
  },
  {
   "cell_type": "code",
   "execution_count": null,
   "id": "31aaf05a",
   "metadata": {},
   "outputs": [],
   "source": []
  }
 ],
 "metadata": {
  "kernelspec": {
   "display_name": "Python 3 (ipykernel)",
   "language": "python",
   "name": "python3"
  },
  "language_info": {
   "codemirror_mode": {
    "name": "ipython",
    "version": 3
   },
   "file_extension": ".py",
   "mimetype": "text/x-python",
   "name": "python",
   "nbconvert_exporter": "python",
   "pygments_lexer": "ipython3",
   "version": "3.10.9"
  }
 },
 "nbformat": 4,
 "nbformat_minor": 5
}
