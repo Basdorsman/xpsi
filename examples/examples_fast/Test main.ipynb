{
 "cells": [
  {
   "cell_type": "code",
   "execution_count": 1,
   "id": "f46bd92c",
   "metadata": {},
   "outputs": [
    {
     "name": "stdout",
     "output_type": "stream",
     "text": [
      "/=============================================\\\n",
      "| X-PSI: X-ray Pulse Simulation and Inference |\n",
      "|---------------------------------------------|\n",
      "|                Version: 2.0.0               |\n",
      "|---------------------------------------------|\n",
      "|      https://xpsi-group.github.io/xpsi      |\n",
      "\\=============================================/\n",
      "\n",
      "Imported GetDist version: 1.4\n",
      "Imported nestcheck version: 0.2.1\n",
      "Setting channels for event data...\n",
      "Channels set.\n",
      "Setting channels for loaded instrument response (sub)matrix...\n",
      "Channels set.\n",
      "No parameters supplied... empty subspace created.\n",
      "Creating parameter:\n",
      "    > Named \"phase_shift\" with fixed value 0.000e+00.\n",
      "    > The phase shift for the signal, a periodic parameter [cycles].\n",
      "Creating parameter:\n",
      "    > Named \"frequency\" with fixed value 3.140e+02.\n",
      "    > Spin frequency [Hz].\n",
      "Creating parameter:\n",
      "    > Named \"mass\" with bounds [1.000e+00, 1.600e+00].\n",
      "    > Gravitational mass [solar masses].\n",
      "Creating parameter:\n",
      "    > Named \"radius\" with bounds [1.000e+01, 1.300e+01].\n",
      "    > Coordinate equatorial radius [km].\n",
      "Creating parameter:\n",
      "    > Named \"distance\" with bounds [5.000e-01, 2.000e+00].\n",
      "    > Earth distance [kpc].\n",
      "Creating parameter:\n",
      "    > Named \"cos_inclination\" with bounds [0.000e+00, 1.000e+00].\n",
      "    > Cosine of Earth inclination to rotation axis.\n",
      "Creating parameter:\n",
      "    > Named \"super_colatitude\" with bounds [1.000e-03, 1.570e+00].\n",
      "    > The colatitude of the centre of the superseding region [radians].\n",
      "Creating parameter:\n",
      "    > Named \"super_radius\" with bounds [1.000e-03, 1.570e+00].\n",
      "    > The angular radius of the (circular) superseding region [radians].\n",
      "Creating parameter:\n",
      "    > Named \"phase_shift\" with bounds [-2.500e-01, 7.500e-01].\n",
      "    > The phase of the hot region, a periodic parameter [cycles].\n",
      "Creating parameter:\n",
      "    > Named \"super_temperature\" with bounds [6.000e+00, 7.000e+00].\n",
      "    > log10(superseding region effective temperature [K]).\n",
      "Creating parameter:\n",
      "    > Named \"mode_frequency\" with fixed value 3.140e+02.\n",
      "    > Coordinate frequency of the mode of radiative asymmetry in the\n",
      "photosphere that is assumed to generate the pulsed signal [Hz].\n",
      "No parameters supplied... empty subspace created.\n"
     ]
    }
   ],
   "source": [
    "import sys \n",
    "path=\"Modules\"\n",
    "sys.path.append(path)\n",
    "import main as ST"
   ]
  },
  {
   "cell_type": "code",
   "execution_count": 2,
   "id": "3fcf2afe",
   "metadata": {},
   "outputs": [
    {
     "data": {
      "text/plain": [
       "1922660.4694479366"
      ]
     },
     "execution_count": 2,
     "metadata": {},
     "output_type": "execute_result"
    }
   ],
   "source": [
    "ST.likelihood(ST.p)"
   ]
  },
  {
   "cell_type": "code",
   "execution_count": 3,
   "id": "d7c4006c",
   "metadata": {},
   "outputs": [
    {
     "data": {
      "text/plain": [
       "array([[ 7.2857753 ,  8.01122545,  9.84239894, ..., 10.80332802,\n",
       "         8.69628587,  7.53073824],\n",
       "       [ 7.46859093,  8.21323688, 10.09168765, ..., 11.0712854 ,\n",
       "         8.91261123,  7.71880957],\n",
       "       [ 7.64634296,  8.4099247 , 10.33467166, ..., 11.33063976,\n",
       "         9.12228611,  7.90138596],\n",
       "       ...,\n",
       "       [ 4.56748288,  5.3260559 ,  6.88716418, ...,  5.82158752,\n",
       "         4.881132  ,  4.45146814],\n",
       "       [ 4.52802695,  5.28136906,  6.83087463, ...,  5.7676443 ,\n",
       "         4.83671617,  4.41191686],\n",
       "       [ 4.48818207,  5.23621952,  6.77398143, ...,  5.71326653,\n",
       "         4.79191671,  4.37199919]])"
      ]
     },
     "execution_count": 3,
     "metadata": {},
     "output_type": "execute_result"
    }
   ],
   "source": [
    "ST.likelihood.signal.expected_counts"
   ]
  },
  {
   "cell_type": "code",
   "execution_count": 4,
   "id": "1eb09a04",
   "metadata": {},
   "outputs": [
    {
     "data": {
      "text/plain": [
       "array([[0., 0., 0., ..., 0., 0., 0.],\n",
       "       [0., 0., 0., ..., 0., 0., 0.],\n",
       "       [0., 0., 0., ..., 0., 0., 0.],\n",
       "       ...,\n",
       "       [0., 0., 0., ..., 0., 0., 0.],\n",
       "       [0., 0., 0., ..., 0., 0., 0.],\n",
       "       [0., 0., 0., ..., 0., 0., 0.]])"
      ]
     },
     "execution_count": 4,
     "metadata": {},
     "output_type": "execute_result"
    }
   ],
   "source": [
    "ST.likelihood.signal.background_data"
   ]
  },
  {
   "cell_type": "code",
   "execution_count": 5,
   "id": "e8d866d3",
   "metadata": {},
   "outputs": [
    {
     "data": {
      "text/plain": [
       "array([[ 7.2857753 ,  8.01122545,  9.84239894, ..., 10.80332802,\n",
       "         8.69628587,  7.53073824],\n",
       "       [ 7.46859093,  8.21323688, 10.09168765, ..., 11.0712854 ,\n",
       "         8.91261123,  7.71880957],\n",
       "       [ 7.64634296,  8.4099247 , 10.33467166, ..., 11.33063976,\n",
       "         9.12228611,  7.90138596],\n",
       "       ...,\n",
       "       [ 4.56748288,  5.3260559 ,  6.88716418, ...,  5.82158752,\n",
       "         4.881132  ,  4.45146814],\n",
       "       [ 4.52802695,  5.28136906,  6.83087463, ...,  5.7676443 ,\n",
       "         4.83671617,  4.41191686],\n",
       "       [ 4.48818207,  5.23621952,  6.77398143, ...,  5.71326653,\n",
       "         4.79191671,  4.37199919]])"
      ]
     },
     "execution_count": 5,
     "metadata": {},
     "output_type": "execute_result"
    }
   ],
   "source": [
    "ST.likelihood.signal.signal_from_star"
   ]
  },
  {
   "cell_type": "code",
   "execution_count": 6,
   "id": "8ac19542",
   "metadata": {},
   "outputs": [
    {
     "data": {
      "text/plain": [
       "array([[ 7.285774,  8.011225,  9.842401, ..., 10.80333 ,  8.696288,\n",
       "         7.530737],\n",
       "       [ 7.468589,  8.213236, 10.09169 , ..., 11.071288,  8.912613,\n",
       "         7.718809],\n",
       "       [ 7.646341,  8.409924, 10.334674, ..., 11.330642,  9.122288,\n",
       "         7.901385],\n",
       "       ...,\n",
       "       [ 4.567482,  5.326056,  6.887166, ...,  5.821589,  4.881133,\n",
       "         4.451468],\n",
       "       [ 4.528026,  5.281369,  6.830876, ...,  5.767645,  4.836717,\n",
       "         4.411916],\n",
       "       [ 4.488181,  5.236219,  6.773983, ...,  5.713268,  4.791918,\n",
       "         4.371999]])"
      ]
     },
     "execution_count": 6,
     "metadata": {},
     "output_type": "execute_result"
    }
   ],
   "source": [
    "ST.data.counts"
   ]
  },
  {
   "cell_type": "code",
   "execution_count": null,
   "id": "def3e273",
   "metadata": {},
   "outputs": [],
   "source": []
  }
 ],
 "metadata": {
  "kernelspec": {
   "display_name": "Python 3 (ipykernel)",
   "language": "python",
   "name": "python3"
  },
  "language_info": {
   "codemirror_mode": {
    "name": "ipython",
    "version": 3
   },
   "file_extension": ".py",
   "mimetype": "text/x-python",
   "name": "python",
   "nbconvert_exporter": "python",
   "pygments_lexer": "ipython3",
   "version": "3.10.9"
  }
 },
 "nbformat": 4,
 "nbformat_minor": 5
}
