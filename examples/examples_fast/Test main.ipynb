{
 "cells": [
  {
   "cell_type": "code",
   "execution_count": 1,
   "id": "f46bd92c",
   "metadata": {
    "scrolled": true
   },
   "outputs": [
    {
     "name": "stdout",
     "output_type": "stream",
     "text": [
      "/=============================================\\\n",
      "| X-PSI: X-ray Pulse Simulation and Inference |\n",
      "|---------------------------------------------|\n",
      "|                Version: 2.0.0               |\n",
      "|---------------------------------------------|\n",
      "|      https://xpsi-group.github.io/xpsi      |\n",
      "\\=============================================/\n",
      "\n",
      "Imported GetDist version: 1.4\n",
      "Imported nestcheck version: 0.2.1\n",
      "Setting channels for event data...\n",
      "Channels set.\n",
      "Setting channels for loaded instrument response (sub)matrix...\n",
      "Channels set.\n",
      "No parameters supplied... empty subspace created.\n",
      "Creating parameter:\n",
      "    > Named \"phase_shift\" with fixed value 0.000e+00.\n",
      "    > The phase shift for the signal, a periodic parameter [cycles].\n",
      "Creating parameter:\n",
      "    > Named \"frequency\" with fixed value 3.140e+02.\n",
      "    > Spin frequency [Hz].\n",
      "Creating parameter:\n",
      "    > Named \"mass\" with bounds [1.000e+00, 1.600e+00].\n",
      "    > Gravitational mass [solar masses].\n",
      "Creating parameter:\n",
      "    > Named \"radius\" with bounds [1.000e+01, 1.300e+01].\n",
      "    > Coordinate equatorial radius [km].\n",
      "Creating parameter:\n",
      "    > Named \"distance\" with bounds [5.000e-01, 2.000e+00].\n",
      "    > Earth distance [kpc].\n",
      "Creating parameter:\n",
      "    > Named \"cos_inclination\" with bounds [0.000e+00, 1.000e+00].\n",
      "    > Cosine of Earth inclination to rotation axis.\n",
      "Creating parameter:\n",
      "    > Named \"super_colatitude\" with bounds [1.000e-03, 1.570e+00].\n",
      "    > The colatitude of the centre of the superseding region [radians].\n",
      "Creating parameter:\n",
      "    > Named \"super_radius\" with bounds [1.000e-03, 1.570e+00].\n",
      "    > The angular radius of the (circular) superseding region [radians].\n",
      "Creating parameter:\n",
      "    > Named \"phase_shift\" with bounds [-2.500e-01, 7.500e-01].\n",
      "    > The phase of the hot region, a periodic parameter [cycles].\n",
      "Creating parameter:\n",
      "    > Named \"super_temperature\" with bounds [6.000e+00, 7.000e+00].\n",
      "    > log10(superseding region effective temperature [K]).\n",
      "Creating parameter:\n",
      "    > Named \"mode_frequency\" with fixed value 3.140e+02.\n",
      "    > Coordinate frequency of the mode of radiative asymmetry in the\n",
      "photosphere that is assumed to generate the pulsed signal [Hz].\n",
      "No parameters supplied... empty subspace created.\n",
      "Checking likelihood and prior evaluation before commencing sampling...\n",
      "Not using ``allclose`` function from NumPy.\n",
      "Using fallback implementation instead.\n",
      "Checking closeness of likelihood arrays:\n",
      "1.9226602671e+06 | 1.9226602671e+06 .....\n",
      "Closeness evaluated.\n",
      "Log-likelihood value checks passed on root process.\n",
      "Checks passed.\n"
     ]
    }
   ],
   "source": [
    "import sys \n",
    "path=\"Modules\"\n",
    "sys.path.append(path)\n",
    "import main as ST"
   ]
  },
  {
   "cell_type": "code",
   "execution_count": 2,
   "id": "3fcf2afe",
   "metadata": {},
   "outputs": [
    {
     "data": {
      "text/plain": [
       "1922660.2670906868"
      ]
     },
     "execution_count": 2,
     "metadata": {},
     "output_type": "execute_result"
    }
   ],
   "source": [
    "ST.likelihood(ST.p)"
   ]
  },
  {
   "cell_type": "code",
   "execution_count": 3,
   "id": "d7c4006c",
   "metadata": {},
   "outputs": [
    {
     "data": {
      "text/plain": [
       "array([[ 7.23243925,  7.95744049,  9.78110038, ..., 10.7016928 ,\n",
       "         8.62008907,  7.4700369 ],\n",
       "       [ 7.46986684,  8.21477337, 10.09384563, ..., 11.07185178,\n",
       "         8.91339323,  7.71963286],\n",
       "       [ 7.64689179,  8.410615  , 10.33574798, ..., 11.33030922,\n",
       "         9.12230185,  7.9014977 ],\n",
       "       ...,\n",
       "       [ 4.53313486,  5.28719409,  6.8386026 , ...,  5.77483848,\n",
       "         4.84243132,  4.41680016],\n",
       "       [ 4.50521362,  5.2555638 ,  6.79869775, ...,  5.73630941,\n",
       "         4.81084074,  4.38876562],\n",
       "       [ 4.48351219,  5.23096645,  6.7676146 , ...,  5.70614532,\n",
       "         4.78619272,  4.36695079]])"
      ]
     },
     "execution_count": 3,
     "metadata": {},
     "output_type": "execute_result"
    }
   ],
   "source": [
    "ST.likelihood.signal.expected_counts"
   ]
  },
  {
   "cell_type": "code",
   "execution_count": 4,
   "id": "1eb09a04",
   "metadata": {},
   "outputs": [
    {
     "data": {
      "text/plain": [
       "array([[0., 0., 0., ..., 0., 0., 0.],\n",
       "       [0., 0., 0., ..., 0., 0., 0.],\n",
       "       [0., 0., 0., ..., 0., 0., 0.],\n",
       "       ...,\n",
       "       [0., 0., 0., ..., 0., 0., 0.],\n",
       "       [0., 0., 0., ..., 0., 0., 0.],\n",
       "       [0., 0., 0., ..., 0., 0., 0.]])"
      ]
     },
     "execution_count": 4,
     "metadata": {},
     "output_type": "execute_result"
    }
   ],
   "source": [
    "ST.likelihood.signal.background_data"
   ]
  },
  {
   "cell_type": "code",
   "execution_count": 5,
   "id": "e8d866d3",
   "metadata": {},
   "outputs": [
    {
     "data": {
      "text/plain": [
       "array([[ 7.23243925,  7.95744049,  9.78110038, ..., 10.7016928 ,\n",
       "         8.62008907,  7.4700369 ],\n",
       "       [ 7.46986684,  8.21477337, 10.09384563, ..., 11.07185178,\n",
       "         8.91339323,  7.71963286],\n",
       "       [ 7.64689179,  8.410615  , 10.33574798, ..., 11.33030922,\n",
       "         9.12230185,  7.9014977 ],\n",
       "       ...,\n",
       "       [ 4.53313486,  5.28719409,  6.8386026 , ...,  5.77483848,\n",
       "         4.84243132,  4.41680016],\n",
       "       [ 4.50521362,  5.2555638 ,  6.79869775, ...,  5.73630941,\n",
       "         4.81084074,  4.38876562],\n",
       "       [ 4.48351219,  5.23096645,  6.7676146 , ...,  5.70614532,\n",
       "         4.78619272,  4.36695079]])"
      ]
     },
     "execution_count": 5,
     "metadata": {},
     "output_type": "execute_result"
    }
   ],
   "source": [
    "ST.likelihood.signal.signal_from_star"
   ]
  },
  {
   "cell_type": "code",
   "execution_count": 6,
   "id": "8ac19542",
   "metadata": {},
   "outputs": [
    {
     "data": {
      "text/plain": [
       "array([[ 7.285774,  8.011225,  9.842401, ..., 10.80333 ,  8.696288,\n",
       "         7.530737],\n",
       "       [ 7.468589,  8.213236, 10.09169 , ..., 11.071288,  8.912613,\n",
       "         7.718809],\n",
       "       [ 7.646341,  8.409924, 10.334674, ..., 11.330642,  9.122288,\n",
       "         7.901385],\n",
       "       ...,\n",
       "       [ 4.567482,  5.326056,  6.887166, ...,  5.821589,  4.881133,\n",
       "         4.451468],\n",
       "       [ 4.528026,  5.281369,  6.830876, ...,  5.767645,  4.836717,\n",
       "         4.411916],\n",
       "       [ 4.488181,  5.236219,  6.773983, ...,  5.713268,  4.791918,\n",
       "         4.371999]])"
      ]
     },
     "execution_count": 6,
     "metadata": {},
     "output_type": "execute_result"
    }
   ],
   "source": [
    "ST.data.counts"
   ]
  },
  {
   "cell_type": "code",
   "execution_count": 7,
   "id": "def3e273",
   "metadata": {},
   "outputs": [
    {
     "data": {
      "text/plain": [
       "array([-1.64566047e+89])"
      ]
     },
     "execution_count": 7,
     "metadata": {},
     "output_type": "execute_result"
    }
   ],
   "source": [
    "problematic_p = [1.4326436042785646, 12.719050765037537, 1.13165796383696, 0.6065394282341003, 0.4789896607398987, 1.5303709267292163, 0.3116711598919181, 6.18767648935318]\n",
    "\n",
    "ST.likelihood(problematic_p, reinitialise=True)"
   ]
  },
  {
   "cell_type": "code",
   "execution_count": 8,
   "id": "5577bab4",
   "metadata": {},
   "outputs": [
    {
     "data": {
      "text/plain": [
       "array([[2.31251834e+00, 2.21867077e+00, 2.08429056e+00, ...,\n",
       "        2.25811073e+00, 2.34017965e+00, 2.35602718e+00],\n",
       "       [2.32585598e+00, 2.23012935e+00, 2.09366398e+00, ...,\n",
       "        2.27452000e+00, 2.35613239e+00, 2.37091034e+00],\n",
       "       [2.33209358e+00, 2.23514242e+00, 2.09749300e+00, ...,\n",
       "        2.28345171e+00, 2.36446837e+00, 2.37830092e+00],\n",
       "       ...,\n",
       "       [0.00000000e+00, 0.00000000e+00, 0.00000000e+00, ...,\n",
       "        0.00000000e+00, 0.00000000e+00, 0.00000000e+00],\n",
       "       [0.00000000e+00, 0.00000000e+00, 0.00000000e+00, ...,\n",
       "        3.51931629e-05, 0.00000000e+00, 0.00000000e+00],\n",
       "       [1.09571130e-04, 5.17784243e-05, 0.00000000e+00, ...,\n",
       "        2.91967802e-04, 2.34883967e-04, 1.71879485e-04]])"
      ]
     },
     "execution_count": 8,
     "metadata": {},
     "output_type": "execute_result"
    }
   ],
   "source": [
    "ST.likelihood.signal.expected_counts"
   ]
  },
  {
   "cell_type": "code",
   "execution_count": null,
   "id": "d549621e",
   "metadata": {},
   "outputs": [],
   "source": []
  }
 ],
 "metadata": {
  "kernelspec": {
   "display_name": "Python 3 (ipykernel)",
   "language": "python",
   "name": "python3"
  },
  "language_info": {
   "codemirror_mode": {
    "name": "ipython",
    "version": 3
   },
   "file_extension": ".py",
   "mimetype": "text/x-python",
   "name": "python",
   "nbconvert_exporter": "python",
   "pygments_lexer": "ipython3",
   "version": "3.10.9"
  }
 },
 "nbformat": 4,
 "nbformat_minor": 5
}
